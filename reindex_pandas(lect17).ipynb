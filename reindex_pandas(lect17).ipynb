{
 "cells": [
  {
   "cell_type": "code",
   "execution_count": 1,
   "metadata": {
    "collapsed": false
   },
   "outputs": [
    {
     "data": {
      "text/plain": [
       "A    1\n",
       "B    2\n",
       "C    3\n",
       "D    4\n",
       "dtype: int64"
      ]
     },
     "execution_count": 1,
     "metadata": {},
     "output_type": "execute_result"
    }
   ],
   "source": [
    "import numpy as np\n",
    "import pandas as pd\n",
    "from pandas import Series,DataFrame\n",
    "from numpy.random import randn\n",
    "\n",
    "ser1 = Series([1,2,3,4],index=['A','B','C','D'])\n",
    "ser1"
   ]
  },
  {
   "cell_type": "code",
   "execution_count": 2,
   "metadata": {
    "collapsed": false
   },
   "outputs": [
    {
     "data": {
      "text/plain": [
       "A    1.0\n",
       "B    2.0\n",
       "C    3.0\n",
       "D    4.0\n",
       "E    NaN\n",
       "F    NaN\n",
       "dtype: float64"
      ]
     },
     "execution_count": 2,
     "metadata": {},
     "output_type": "execute_result"
    }
   ],
   "source": [
    "ser2 = ser1.reindex(['A','B','C','D','E','F'])\n",
    "ser2"
   ]
  },
  {
   "cell_type": "code",
   "execution_count": 3,
   "metadata": {
    "collapsed": false
   },
   "outputs": [
    {
     "data": {
      "text/plain": [
       "A    1.0\n",
       "B    2.0\n",
       "C    3.0\n",
       "D    4.0\n",
       "E    NaN\n",
       "F    NaN\n",
       "G    0.0\n",
       "dtype: float64"
      ]
     },
     "execution_count": 3,
     "metadata": {},
     "output_type": "execute_result"
    }
   ],
   "source": [
    "ser2.reindex(['A','B','C','D','E','F','G'],fill_value=0)"
   ]
  },
  {
   "cell_type": "code",
   "execution_count": 5,
   "metadata": {
    "collapsed": false
   },
   "outputs": [
    {
     "data": {
      "text/plain": [
       "0         USA\n",
       "5     Meksiko\n",
       "10     Canada\n",
       "dtype: object"
      ]
     },
     "execution_count": 5,
     "metadata": {},
     "output_type": "execute_result"
    }
   ],
   "source": [
    "ser3 = Series(['USA','Meksiko','Canada'],index=[0,5,10])\n",
    "ser3"
   ]
  },
  {
   "cell_type": "code",
   "execution_count": 6,
   "metadata": {
    "collapsed": false
   },
   "outputs": [
    {
     "data": {
      "text/plain": [
       "[0, 1, 2, 3, 4, 5, 6, 7, 8, 9, 10, 11, 12, 13, 14]"
      ]
     },
     "execution_count": 6,
     "metadata": {},
     "output_type": "execute_result"
    }
   ],
   "source": [
    "ranger = range(15)\n",
    "ranger"
   ]
  },
  {
   "cell_type": "code",
   "execution_count": 7,
   "metadata": {
    "collapsed": false
   },
   "outputs": [
    {
     "data": {
      "text/plain": [
       "0         USA\n",
       "1         USA\n",
       "2         USA\n",
       "3         USA\n",
       "4         USA\n",
       "5     Meksiko\n",
       "6     Meksiko\n",
       "7     Meksiko\n",
       "8     Meksiko\n",
       "9     Meksiko\n",
       "10     Canada\n",
       "11     Canada\n",
       "12     Canada\n",
       "13     Canada\n",
       "14     Canada\n",
       "dtype: object"
      ]
     },
     "execution_count": 7,
     "metadata": {},
     "output_type": "execute_result"
    }
   ],
   "source": [
    "ser3.reindex(ranger,method='ffill')"
   ]
  },
  {
   "cell_type": "code",
   "execution_count": 12,
   "metadata": {
    "collapsed": false
   },
   "outputs": [
    {
     "data": {
      "text/html": [
       "<div>\n",
       "<table border=\"1\" class=\"dataframe\">\n",
       "  <thead>\n",
       "    <tr style=\"text-align: right;\">\n",
       "      <th></th>\n",
       "      <th>col1</th>\n",
       "      <th>col2</th>\n",
       "      <th>col3</th>\n",
       "      <th>col4</th>\n",
       "      <th>col5</th>\n",
       "    </tr>\n",
       "  </thead>\n",
       "  <tbody>\n",
       "    <tr>\n",
       "      <th>A</th>\n",
       "      <td>1.829287</td>\n",
       "      <td>-0.670274</td>\n",
       "      <td>0.725015</td>\n",
       "      <td>-0.896886</td>\n",
       "      <td>-2.143310</td>\n",
       "    </tr>\n",
       "    <tr>\n",
       "      <th>B</th>\n",
       "      <td>2.223809</td>\n",
       "      <td>-0.034536</td>\n",
       "      <td>-0.381970</td>\n",
       "      <td>-0.975057</td>\n",
       "      <td>0.049856</td>\n",
       "    </tr>\n",
       "    <tr>\n",
       "      <th>C</th>\n",
       "      <td>0.879933</td>\n",
       "      <td>-0.536931</td>\n",
       "      <td>-1.786185</td>\n",
       "      <td>-0.764168</td>\n",
       "      <td>-2.257481</td>\n",
       "    </tr>\n",
       "    <tr>\n",
       "      <th>D</th>\n",
       "      <td>-0.526094</td>\n",
       "      <td>-1.713972</td>\n",
       "      <td>0.943269</td>\n",
       "      <td>-0.950356</td>\n",
       "      <td>-2.555950</td>\n",
       "    </tr>\n",
       "    <tr>\n",
       "      <th>E</th>\n",
       "      <td>-0.791363</td>\n",
       "      <td>0.094982</td>\n",
       "      <td>-0.566798</td>\n",
       "      <td>0.165286</td>\n",
       "      <td>-0.227376</td>\n",
       "    </tr>\n",
       "  </tbody>\n",
       "</table>\n",
       "</div>"
      ],
      "text/plain": [
       "       col1      col2      col3      col4      col5\n",
       "A  1.829287 -0.670274  0.725015 -0.896886 -2.143310\n",
       "B  2.223809 -0.034536 -0.381970 -0.975057  0.049856\n",
       "C  0.879933 -0.536931 -1.786185 -0.764168 -2.257481\n",
       "D -0.526094 -1.713972  0.943269 -0.950356 -2.555950\n",
       "E -0.791363  0.094982 -0.566798  0.165286 -0.227376"
      ]
     },
     "execution_count": 12,
     "metadata": {},
     "output_type": "execute_result"
    }
   ],
   "source": [
    "dframe = DataFrame(randn(25).reshape((5,5)),index=['A','B','C','D','E'],columns=['col1','col2','col3','col4','col5'])\n",
    "dframe"
   ]
  },
  {
   "cell_type": "code",
   "execution_count": 14,
   "metadata": {
    "collapsed": false
   },
   "outputs": [
    {
     "data": {
      "text/html": [
       "<div>\n",
       "<table border=\"1\" class=\"dataframe\">\n",
       "  <thead>\n",
       "    <tr style=\"text-align: right;\">\n",
       "      <th></th>\n",
       "      <th>col1</th>\n",
       "      <th>col2</th>\n",
       "      <th>col3</th>\n",
       "      <th>col4</th>\n",
       "      <th>col5</th>\n",
       "    </tr>\n",
       "  </thead>\n",
       "  <tbody>\n",
       "    <tr>\n",
       "      <th>A</th>\n",
       "      <td>1.829287</td>\n",
       "      <td>-0.670274</td>\n",
       "      <td>0.725015</td>\n",
       "      <td>-0.896886</td>\n",
       "      <td>-2.143310</td>\n",
       "    </tr>\n",
       "    <tr>\n",
       "      <th>B</th>\n",
       "      <td>2.223809</td>\n",
       "      <td>-0.034536</td>\n",
       "      <td>-0.381970</td>\n",
       "      <td>-0.975057</td>\n",
       "      <td>0.049856</td>\n",
       "    </tr>\n",
       "    <tr>\n",
       "      <th>C</th>\n",
       "      <td>0.879933</td>\n",
       "      <td>-0.536931</td>\n",
       "      <td>-1.786185</td>\n",
       "      <td>-0.764168</td>\n",
       "      <td>-2.257481</td>\n",
       "    </tr>\n",
       "    <tr>\n",
       "      <th>D</th>\n",
       "      <td>-0.526094</td>\n",
       "      <td>-1.713972</td>\n",
       "      <td>0.943269</td>\n",
       "      <td>-0.950356</td>\n",
       "      <td>-2.555950</td>\n",
       "    </tr>\n",
       "    <tr>\n",
       "      <th>E</th>\n",
       "      <td>-0.791363</td>\n",
       "      <td>0.094982</td>\n",
       "      <td>-0.566798</td>\n",
       "      <td>0.165286</td>\n",
       "      <td>-0.227376</td>\n",
       "    </tr>\n",
       "    <tr>\n",
       "      <th>F</th>\n",
       "      <td>NaN</td>\n",
       "      <td>NaN</td>\n",
       "      <td>NaN</td>\n",
       "      <td>NaN</td>\n",
       "      <td>NaN</td>\n",
       "    </tr>\n",
       "  </tbody>\n",
       "</table>\n",
       "</div>"
      ],
      "text/plain": [
       "       col1      col2      col3      col4      col5\n",
       "A  1.829287 -0.670274  0.725015 -0.896886 -2.143310\n",
       "B  2.223809 -0.034536 -0.381970 -0.975057  0.049856\n",
       "C  0.879933 -0.536931 -1.786185 -0.764168 -2.257481\n",
       "D -0.526094 -1.713972  0.943269 -0.950356 -2.555950\n",
       "E -0.791363  0.094982 -0.566798  0.165286 -0.227376\n",
       "F       NaN       NaN       NaN       NaN       NaN"
      ]
     },
     "execution_count": 14,
     "metadata": {},
     "output_type": "execute_result"
    }
   ],
   "source": [
    "dframe2 = dframe.reindex(['A','B','C','D','E','F'])\n",
    "dframe2"
   ]
  },
  {
   "cell_type": "code",
   "execution_count": 16,
   "metadata": {
    "collapsed": false
   },
   "outputs": [
    {
     "data": {
      "text/html": [
       "<div>\n",
       "<table border=\"1\" class=\"dataframe\">\n",
       "  <thead>\n",
       "    <tr style=\"text-align: right;\">\n",
       "      <th></th>\n",
       "      <th>col1</th>\n",
       "      <th>col2</th>\n",
       "      <th>col3</th>\n",
       "      <th>col4</th>\n",
       "      <th>col4</th>\n",
       "      <th>col5</th>\n",
       "      <th>col6</th>\n",
       "    </tr>\n",
       "  </thead>\n",
       "  <tbody>\n",
       "    <tr>\n",
       "      <th>A</th>\n",
       "      <td>1.829287</td>\n",
       "      <td>-0.670274</td>\n",
       "      <td>0.725015</td>\n",
       "      <td>-0.896886</td>\n",
       "      <td>-0.896886</td>\n",
       "      <td>-2.143310</td>\n",
       "      <td>NaN</td>\n",
       "    </tr>\n",
       "    <tr>\n",
       "      <th>B</th>\n",
       "      <td>2.223809</td>\n",
       "      <td>-0.034536</td>\n",
       "      <td>-0.381970</td>\n",
       "      <td>-0.975057</td>\n",
       "      <td>-0.975057</td>\n",
       "      <td>0.049856</td>\n",
       "      <td>NaN</td>\n",
       "    </tr>\n",
       "    <tr>\n",
       "      <th>C</th>\n",
       "      <td>0.879933</td>\n",
       "      <td>-0.536931</td>\n",
       "      <td>-1.786185</td>\n",
       "      <td>-0.764168</td>\n",
       "      <td>-0.764168</td>\n",
       "      <td>-2.257481</td>\n",
       "      <td>NaN</td>\n",
       "    </tr>\n",
       "    <tr>\n",
       "      <th>D</th>\n",
       "      <td>-0.526094</td>\n",
       "      <td>-1.713972</td>\n",
       "      <td>0.943269</td>\n",
       "      <td>-0.950356</td>\n",
       "      <td>-0.950356</td>\n",
       "      <td>-2.555950</td>\n",
       "      <td>NaN</td>\n",
       "    </tr>\n",
       "    <tr>\n",
       "      <th>E</th>\n",
       "      <td>-0.791363</td>\n",
       "      <td>0.094982</td>\n",
       "      <td>-0.566798</td>\n",
       "      <td>0.165286</td>\n",
       "      <td>0.165286</td>\n",
       "      <td>-0.227376</td>\n",
       "      <td>NaN</td>\n",
       "    </tr>\n",
       "    <tr>\n",
       "      <th>F</th>\n",
       "      <td>NaN</td>\n",
       "      <td>NaN</td>\n",
       "      <td>NaN</td>\n",
       "      <td>NaN</td>\n",
       "      <td>NaN</td>\n",
       "      <td>NaN</td>\n",
       "      <td>NaN</td>\n",
       "    </tr>\n",
       "  </tbody>\n",
       "</table>\n",
       "</div>"
      ],
      "text/plain": [
       "       col1      col2      col3      col4      col4      col5  col6\n",
       "A  1.829287 -0.670274  0.725015 -0.896886 -0.896886 -2.143310   NaN\n",
       "B  2.223809 -0.034536 -0.381970 -0.975057 -0.975057  0.049856   NaN\n",
       "C  0.879933 -0.536931 -1.786185 -0.764168 -0.764168 -2.257481   NaN\n",
       "D -0.526094 -1.713972  0.943269 -0.950356 -0.950356 -2.555950   NaN\n",
       "E -0.791363  0.094982 -0.566798  0.165286  0.165286 -0.227376   NaN\n",
       "F       NaN       NaN       NaN       NaN       NaN       NaN   NaN"
      ]
     },
     "execution_count": 16,
     "metadata": {},
     "output_type": "execute_result"
    }
   ],
   "source": [
    "new_columns = ['col1','col2','col3','col4','col4','col5','col6']\n",
    "dframe2.reindex(columns=new_columns)"
   ]
  },
  {
   "cell_type": "code",
   "execution_count": 17,
   "metadata": {
    "collapsed": false
   },
   "outputs": [
    {
     "data": {
      "text/html": [
       "<div>\n",
       "<table border=\"1\" class=\"dataframe\">\n",
       "  <thead>\n",
       "    <tr style=\"text-align: right;\">\n",
       "      <th></th>\n",
       "      <th>col1</th>\n",
       "      <th>col2</th>\n",
       "      <th>col3</th>\n",
       "      <th>col4</th>\n",
       "      <th>col4</th>\n",
       "      <th>col5</th>\n",
       "      <th>col6</th>\n",
       "    </tr>\n",
       "  </thead>\n",
       "  <tbody>\n",
       "    <tr>\n",
       "      <th>A</th>\n",
       "      <td>1.829287</td>\n",
       "      <td>-0.670274</td>\n",
       "      <td>0.725015</td>\n",
       "      <td>-0.896886</td>\n",
       "      <td>-0.896886</td>\n",
       "      <td>-2.143310</td>\n",
       "      <td>NaN</td>\n",
       "    </tr>\n",
       "    <tr>\n",
       "      <th>B</th>\n",
       "      <td>2.223809</td>\n",
       "      <td>-0.034536</td>\n",
       "      <td>-0.381970</td>\n",
       "      <td>-0.975057</td>\n",
       "      <td>-0.975057</td>\n",
       "      <td>0.049856</td>\n",
       "      <td>NaN</td>\n",
       "    </tr>\n",
       "    <tr>\n",
       "      <th>C</th>\n",
       "      <td>0.879933</td>\n",
       "      <td>-0.536931</td>\n",
       "      <td>-1.786185</td>\n",
       "      <td>-0.764168</td>\n",
       "      <td>-0.764168</td>\n",
       "      <td>-2.257481</td>\n",
       "      <td>NaN</td>\n",
       "    </tr>\n",
       "    <tr>\n",
       "      <th>D</th>\n",
       "      <td>-0.526094</td>\n",
       "      <td>-1.713972</td>\n",
       "      <td>0.943269</td>\n",
       "      <td>-0.950356</td>\n",
       "      <td>-0.950356</td>\n",
       "      <td>-2.555950</td>\n",
       "      <td>NaN</td>\n",
       "    </tr>\n",
       "    <tr>\n",
       "      <th>E</th>\n",
       "      <td>-0.791363</td>\n",
       "      <td>0.094982</td>\n",
       "      <td>-0.566798</td>\n",
       "      <td>0.165286</td>\n",
       "      <td>0.165286</td>\n",
       "      <td>-0.227376</td>\n",
       "      <td>NaN</td>\n",
       "    </tr>\n",
       "    <tr>\n",
       "      <th>F</th>\n",
       "      <td>NaN</td>\n",
       "      <td>NaN</td>\n",
       "      <td>NaN</td>\n",
       "      <td>NaN</td>\n",
       "      <td>NaN</td>\n",
       "      <td>NaN</td>\n",
       "      <td>NaN</td>\n",
       "    </tr>\n",
       "  </tbody>\n",
       "</table>\n",
       "</div>"
      ],
      "text/plain": [
       "       col1      col2      col3      col4      col4      col5  col6\n",
       "A  1.829287 -0.670274  0.725015 -0.896886 -0.896886 -2.143310   NaN\n",
       "B  2.223809 -0.034536 -0.381970 -0.975057 -0.975057  0.049856   NaN\n",
       "C  0.879933 -0.536931 -1.786185 -0.764168 -0.764168 -2.257481   NaN\n",
       "D -0.526094 -1.713972  0.943269 -0.950356 -0.950356 -2.555950   NaN\n",
       "E -0.791363  0.094982 -0.566798  0.165286  0.165286 -0.227376   NaN\n",
       "F       NaN       NaN       NaN       NaN       NaN       NaN   NaN"
      ]
     },
     "execution_count": 17,
     "metadata": {},
     "output_type": "execute_result"
    }
   ],
   "source": [
    "dframe.ix[['A','B','C','D','E','F'],new_columns]"
   ]
  },
  {
   "cell_type": "code",
   "execution_count": null,
   "metadata": {
    "collapsed": true
   },
   "outputs": [],
   "source": []
  }
 ],
 "metadata": {
  "anaconda-cloud": {},
  "kernelspec": {
   "display_name": "Python [conda root]",
   "language": "python",
   "name": "conda-root-py"
  },
  "language_info": {
   "codemirror_mode": {
    "name": "ipython",
    "version": 2
   },
   "file_extension": ".py",
   "mimetype": "text/x-python",
   "name": "python",
   "nbconvert_exporter": "python",
   "pygments_lexer": "ipython2",
   "version": "2.7.12"
  }
 },
 "nbformat": 4,
 "nbformat_minor": 1
}
